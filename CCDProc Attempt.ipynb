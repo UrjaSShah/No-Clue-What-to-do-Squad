{
 "cells": [
  {
   "cell_type": "code",
   "execution_count": 13,
   "metadata": {},
   "outputs": [],
   "source": [
    "import sys\n",
    "import os\n",
    "import glob\n",
    "import numpy as np\n",
    "from astropy.io import fits\n",
    "from astropy import units as u\n",
    "import ccdproc\n",
    "from ccdproc import CCDData\n",
    "from ccdproc import ImageFileCollection"
   ]
  },
  {
   "cell_type": "code",
   "execution_count": 14,
   "metadata": {},
   "outputs": [],
   "source": [
    "bias = glob.glob('Bias.00**.fits')"
   ]
  },
  {
   "cell_type": "code",
   "execution_count": 15,
   "metadata": {},
   "outputs": [
    {
     "name": "stderr",
     "output_type": "stream",
     "text": [
      "WARNING: FITSFixedWarning: RADECSYS= 'Mount' / Coordinate system, per TCC ObjSys \n",
      "the RADECSYS keyword is deprecated, use RADESYSa. [astropy.wcs.wcs]\n"
     ]
    }
   ],
   "source": [
    "masterbias=ccdproc.combine(bias, method='median',unit=u.electron)"
   ]
  },
  {
   "cell_type": "code",
   "execution_count": 16,
   "metadata": {},
   "outputs": [
    {
     "data": {
      "text/plain": [
       "CCDData([[122.5, 126.5, 123. , ..., 123.5, 123. , 123.5],\n",
       "         [124. , 125.5, 124.5, ..., 123. , 123. , 123.5],\n",
       "         [124.5, 126. , 123.5, ..., 123. , 123. , 123.5],\n",
       "         ...,\n",
       "         [124. , 126.5, 122. , ..., 124. , 122.5, 125. ],\n",
       "         [122.5, 127. , 123. , ..., 123.5, 123. , 124. ],\n",
       "         [123.5, 126.5, 121.5, ..., 124. , 123. , 124. ]])"
      ]
     },
     "execution_count": 16,
     "metadata": {},
     "output_type": "execute_result"
    }
   ],
   "source": [
    "masterbias"
   ]
  },
  {
   "cell_type": "markdown",
   "metadata": {},
   "source": [
    "flat = glob.glob('Flat.00**.fits')"
   ]
  },
  {
   "cell_type": "code",
   "execution_count": 17,
   "metadata": {},
   "outputs": [],
   "source": [
    "flat = glob.glob('Flat.00**.fits')"
   ]
  },
  {
   "cell_type": "code",
   "execution_count": 18,
   "metadata": {},
   "outputs": [
    {
     "name": "stderr",
     "output_type": "stream",
     "text": [
      "WARNING: FITSFixedWarning: RADECSYS= 'Mount' / Coordinate system, per TCC ObjSys \n",
      "the RADECSYS keyword is deprecated, use RADESYSa. [astropy.wcs.wcs]\n"
     ]
    }
   ],
   "source": [
    "masterflat=ccdproc.combine(flat, method='median',unit=u.electron)"
   ]
  },
  {
   "cell_type": "code",
   "execution_count": 19,
   "metadata": {},
   "outputs": [
    {
     "data": {
      "text/plain": [
       "CCDData([[  125.5,  4809.5, 28038.5, ...,   131.5,   131. ,   131. ],\n",
       "         [  131. ,   133. ,   129.5, ...,   127. ,   127. ,   127.5],\n",
       "         [  127.5,   129.5,   126.5, ...,   127.5,   127. ,   128. ],\n",
       "         ...,\n",
       "         [  126.5,   128.5,   126.5, ...,   127. ,   127. ,   128. ],\n",
       "         [  126. ,   128. ,   126. , ...,   128. ,   127. ,   127. ],\n",
       "         [  125. ,   128. ,   128. , ...,   127. ,   126. ,   126.5]])"
      ]
     },
     "execution_count": 19,
     "metadata": {},
     "output_type": "execute_result"
    }
   ],
   "source": [
    "masterflat"
   ]
  },
  {
   "cell_type": "code",
   "execution_count": 21,
   "metadata": {},
   "outputs": [],
   "source": [
    "masterbias.write('CCD_MasterBias.fits')"
   ]
  },
  {
   "cell_type": "code",
   "execution_count": 22,
   "metadata": {},
   "outputs": [],
   "source": [
    "masterflat.write('CCD_MasterFlat.fits')"
   ]
  },
  {
   "cell_type": "code",
   "execution_count": 30,
   "metadata": {},
   "outputs": [],
   "source": [
    "Cmasterflat=ccdproc.subtract_bias(masterflat, masterbias)"
   ]
  },
  {
   "cell_type": "code",
   "execution_count": 31,
   "metadata": {},
   "outputs": [],
   "source": [
    "Cmasterflat.write('FinalCCD_MasterFlat.fits')"
   ]
  },
  {
   "cell_type": "markdown",
   "metadata": {},
   "source": []
  },
  {
   "cell_type": "code",
   "execution_count": 32,
   "metadata": {},
   "outputs": [],
   "source": [
    "dark = glob.glob('Dark.00**.fits')"
   ]
  },
  {
   "cell_type": "code",
   "execution_count": 33,
   "metadata": {},
   "outputs": [
    {
     "name": "stderr",
     "output_type": "stream",
     "text": [
      "WARNING: FITSFixedWarning: RADECSYS= 'Mount' / Coordinate system, per TCC ObjSys \n",
      "the RADECSYS keyword is deprecated, use RADESYSa. [astropy.wcs.wcs]\n"
     ]
    }
   ],
   "source": [
    "masterdark=ccdproc.combine(dark, method='median',unit=u.electron)"
   ]
  },
  {
   "cell_type": "code",
   "execution_count": 36,
   "metadata": {},
   "outputs": [],
   "source": [
    "Cmasterdark=ccdproc.subtract_bias(masterdark, masterbias)"
   ]
  },
  {
   "cell_type": "code",
   "execution_count": 37,
   "metadata": {},
   "outputs": [],
   "source": [
    "Cmasterdark.write('FinalCCD_MasterDark.fits')"
   ]
  },
  {
   "cell_type": "code",
   "execution_count": null,
   "metadata": {},
   "outputs": [],
   "source": []
  }
 ],
 "metadata": {
  "kernelspec": {
   "display_name": "Python 3",
   "language": "python",
   "name": "python3"
  },
  "language_info": {
   "codemirror_mode": {
    "name": "ipython",
    "version": 3
   },
   "file_extension": ".py",
   "mimetype": "text/x-python",
   "name": "python",
   "nbconvert_exporter": "python",
   "pygments_lexer": "ipython3",
   "version": "3.6.4"
  }
 },
 "nbformat": 4,
 "nbformat_minor": 2
}
